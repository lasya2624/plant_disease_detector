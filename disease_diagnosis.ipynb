{
 "cells": [
  {
   "cell_type": "code",
   "execution_count": null,
   "id": "6896078f",
   "metadata": {},
   "outputs": [],
   "source": [
    "import pandas as pd\n",
    "\n",
    "# Load the dataset\n",
    "df = pd.read_csv('plant_disease_data.csv')\n",
    "df.head()\n"
   ]
  },
  {
   "cell_type": "code",
   "execution_count": null,
   "id": "c461912a",
   "metadata": {},
   "outputs": [],
   "source": [
    "from sklearn.feature_extraction.text import TfidfVectorizer\n",
    "from sklearn.preprocessing import LabelEncoder\n",
    "from sklearn.model_selection import train_test_split\n",
    "\n",
    "# Vectorize symptom descriptions\n",
    "vectorizer = TfidfVectorizer()\n",
    "X = vectorizer.fit_transform(df['Symptom Description'])\n",
    "\n",
    "# Encode disease labels\n",
    "label_encoder = LabelEncoder()\n",
    "y = label_encoder.fit_transform(df['Disease Name'])"
   ]
  },
  {
   "cell_type": "code",
   "execution_count": null,
   "id": "bfc60553",
   "metadata": {},
   "outputs": [],
   "source": [
    "from sklearn.naive_bayes import MultinomialNB\n",
    "\n",
    "# Train-test split\n",
    "X_train, X_test, y_train, y_test = train_test_split(X, y, test_size=0.2, random_state=42)\n",
    "\n",
    "# Train the classifier\n",
    "model = MultinomialNB()\n",
    "model.fit(X_train, y_train)\n"
   ]
  },
  {
   "cell_type": "code",
   "execution_count": null,
   "id": "042eefe5",
   "metadata": {},
   "outputs": [],
   "source": [
    "def predict_disease(user_input):\n",
    "    # Convert text to vector\n",
    "    input_vec = vectorizer.transform([user_input])\n",
    "\n",
    "    # Predict disease\n",
    "    pred_label = model.predict(input_vec)[0]\n",
    "    disease = label_encoder.inverse_transform([pred_label])[0]\n",
    "\n",
    "    # Get solution from the dataframe\n",
    "    solution = df[df['Disease Name'] == disease]['Solution'].values[0]\n",
    "\n",
    "    return disease, solution\n"
   ]
  },
  {
   "cell_type": "code",
   "execution_count": null,
   "id": "7584a506",
   "metadata": {},
   "outputs": [],
   "source": [
    "while True:\n",
    "    user_input = input(\"Describe your plant issue (or type 'exit'): \")\n",
    "    if user_input.lower() == \"exit\":\n",
    "        break\n",
    "    disease, solution = predict_disease(user_input)\n",
    "    print(f\"\\n🦠 Detected Disease: {disease}\")\n",
    "    print(f\"💊 Suggested Treatment: {solution}\\n\")\n"
   ]
  },
  {
   "cell_type": "code",
   "execution_count": null,
   "id": "ff713fdb",
   "metadata": {},
   "outputs": [],
   "source": [
    "#!pip install streamlit pyngrok --quiet    => Run this in terminal to install dependencies\n"
   ]
  },
  {
   "cell_type": "code",
   "execution_count": null,
   "id": "b15ec9b2",
   "metadata": {},
   "outputs": [],
   "source": [
    "%%writefile app.py\n",
    "import streamlit as st\n",
    "import pandas as pd\n",
    "from sklearn.feature_extraction.text import TfidfVectorizer\n",
    "from sklearn.naive_bayes import MultinomialNB\n",
    "from sklearn.preprocessing import LabelEncoder\n",
    "import socket\n",
    "\n",
    "# Debugging info\n",
    "st.set_page_config(page_title=\"Plant Doctor 🌱\", layout=\"wide\")\n",
    "hostname = socket.gethostname()\n",
    "local_ip = socket.gethostbyname(hostname)\n",
    "st.sidebar.write(f\"Running on: {local_ip}\")\n",
    "\n",
    "# Load dataset with error handling\n",
    "@st.cache_data\n",
    "def load_data():\n",
    "    try:\n",
    "        df = pd.read_csv(\"plant_disease_data.csv\")\n",
    "        df.columns = df.columns.str.strip()\n",
    "        return df\n",
    "    except Exception as e:\n",
    "        st.error(f\"Error loading data: {str(e)}\")\n",
    "        return None\n",
    "\n",
    "df = load_data()\n",
    "\n",
    "if df is not None:\n",
    "    # Preprocess\n",
    "    vectorizer = TfidfVectorizer()\n",
    "    X = vectorizer.fit_transform(df['Symptom Description'])\n",
    "\n",
    "    label_encoder = LabelEncoder()\n",
    "    y = label_encoder.fit_transform(df['Disease Name'])\n",
    "\n",
    "    model = MultinomialNB()\n",
    "    model.fit(X, y)\n",
    "\n",
    "    # Predict function\n",
    "    def predict_disease(user_input):\n",
    "        try:\n",
    "            input_vec = vectorizer.transform([user_input])\n",
    "            pred = model.predict(input_vec)[0]\n",
    "            disease = label_encoder.inverse_transform([pred])[0]\n",
    "            solution = df[df['Disease Name'] == disease]['Solution'].values[0]\n",
    "            return disease, solution\n",
    "        except Exception as e:\n",
    "            return f\"Error: {str(e)}\", \"Please try different symptoms\"\n",
    "\n",
    "    # UI\n",
    "    st.title(\"🌿 Plant Disease Diagnosis\")\n",
    "    st.write(\"Describe your plant's symptoms below:\")\n",
    "\n",
    "    user_input = st.text_area(\"Examples: 'yellow leaves', 'white spots', 'wilting stems'\")\n",
    "\n",
    "    if st.button(\"Diagnose\"):\n",
    "        if user_input:\n",
    "            with st.spinner(\"Analyzing symptoms...\"):\n",
    "                disease, solution = predict_disease(user_input)\n",
    "                st.success(f\"🔍 **Diagnosis:** {disease}\")\n",
    "                st.info(f\"💊 **Treatment:** {solution}\")\n",
    "        else:\n",
    "            st.warning(\"Please describe your plant's symptoms\")\n",
    "else:\n",
    "    st.error(\"Failed to load disease database. Please check your data file.\")"
   ]
  },
  {
   "cell_type": "code",
   "execution_count": null,
   "id": "0d2173dc",
   "metadata": {},
   "outputs": [],
   "source": [
    "from google.colab import files\n",
    "uploaded = files.upload()\n",
    "\n",
    "\n",
    "#here upload the data set in the form of csv file"
   ]
  },
  {
   "cell_type": "code",
   "execution_count": null,
   "id": "1249472e",
   "metadata": {},
   "outputs": [],
   "source": [
    "# Remove any existing ngrok/streamlit processes\n",
    "# !pkill -f ngrok || true\n",
    "# !pkill -f streamlit || true\n",
    "\n",
    "# Install required packages\n",
    "# !pip install -q pyngrok streamlit\n",
    "\n",
    "# Set up ngrok (replace with your actual token from https://dashboard.ngrok.com/)\n",
    "from pyngrok import ngrok\n",
    "ngrok.set_auth_token(\"2ygQREvCeSPRnukSkXKFC7D3wJj_6bj33P2FapJRTCb4Qn9yL\")  # REPLACE THIS\n",
    "\n",
    "# Start Streamlit in background\n",
    "#!streamlit run app.py --server.port=8501 --server.address=0.0.0.0 &>/dev/null &\n",
    "\n",
    "# Create public URL\n",
    "public_url = ngrok.connect(8501, bind_tls=True)\n",
    "print(\"🌐 Public URL:\", public_url.public_url)"
   ]
  },
  {
   "cell_type": "code",
   "execution_count": null,
   "id": "a839d09f",
   "metadata": {},
   "outputs": [],
   "source": [
    "# !pkill streamlit          =>   when error occurs at public url run this and restart the session\n",
    "\n",
    "\n",
    "# RUn all these in the terminal \n",
    "# !pkill -f ngrok || true\n",
    "# !pkill -f streamlit || true\n",
    "# !pip install -q pyngrok streamlit\n",
    "#!streamlit run app.py --server.port=8501 --server.address=0.0.0.0 &>/dev/null &"
   ]
  }
 ],
 "metadata": {
  "language_info": {
   "name": "python"
  }
 },
 "nbformat": 4,
 "nbformat_minor": 5
}
